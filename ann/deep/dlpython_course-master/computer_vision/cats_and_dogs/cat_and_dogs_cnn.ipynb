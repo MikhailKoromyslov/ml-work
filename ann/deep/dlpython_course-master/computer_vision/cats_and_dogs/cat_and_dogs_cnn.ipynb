{
 "cells": [
  {
   "cell_type": "markdown",
   "metadata": {},
   "source": [
    "# Распознавание собак и кошек на изображениях с помощью сверточной нейронной сети\n",
    "\n",
    "**Источник данных** - соревнования Kaggle [Dogs vs. Cats](https://www.kaggle.com/c/dogs-vs-cats/data).\n",
    "\n",
    "Для распознавания используется сверточная нейронная сеть.\n",
    "\n",
    "Перед использованием необходимо скачать и подготовить данные для обучения, проверки и тестирования. Можно использовать пример в ноутбуке data_preparation"
   ]
  },
  {
   "cell_type": "code",
   "execution_count": 22,
   "metadata": {},
   "outputs": [],
   "source": [
    "from keras.preprocessing.image import ImageDataGenerator\n",
    "from keras.models import Sequential\n",
    "from keras.layers import Conv2D, MaxPooling2D\n",
    "from keras.layers import Activation, Dropout, Flatten, Dense"
   ]
  },
  {
   "cell_type": "code",
   "execution_count": 23,
   "metadata": {
    "collapsed": true
   },
   "outputs": [],
   "source": [
    "# Каталог с данными для обучения\n",
    "train_dir = 'train'\n",
    "# Каталог с данными для проверки\n",
    "val_dir = 'val'\n",
    "# Каталог с данными для тестирования\n",
    "test_dir = 'test'\n",
    "# Размеры изображения\n",
    "img_width, img_height = 150, 150\n",
    "# Размерность тензора на основе изображения для входных данных в нейронную сеть\n",
    "# backend Tensorflow, channels_last\n",
    "input_shape = (img_width, img_height, 3)\n",
    "# Количество эпох\n",
    "epochs = 30\n",
    "# Размер мини-выборки\n",
    "batch_size = 20\n",
    "# Количество изображений для обучения\n",
    "nb_train_samples = 17500\n",
    "# Количество изображений для проверки\n",
    "nb_validation_samples = 3750\n",
    "# Количество изображений для тестирования\n",
    "nb_test_samples = 3750"
   ]
  },
  {
   "cell_type": "markdown",
   "metadata": {},
   "source": [
    "## Создаем сверточную нейронную сеть\n",
    "\n",
    "**Архитектура сети**\n",
    "1. Слой свретки, размер ядра 3х3, количество карт признаков - 32 шт., функция активации ReLU.\n",
    "2. Слой подвыборки, выбор максимального значения из квадрата 2х2\n",
    "3. Слой свретки, размер ядра 3х3, количество карт признаков - 32 шт., функция активации ReLU.\n",
    "4. Слой подвыборки, выбор максимального значения из квадрата 2х2\n",
    "5. Слой свретки, размер ядра 3х3, количество карт признаков - 64 шт., функция активации ReLU.\n",
    "6. Слой подвыборки, выбор максимального значения из квадрата 2х2\n",
    "7. Слой преобразования из двумерного в одномерное представление\n",
    "8. Полносвязный слой, 64 нейрона, функция активации ReLU.\n",
    "9. Слой Dropout.\n",
    "10. Выходной слой, 1 нейрон, функция активации sigmoid\n",
    "\n",
    "Слои с 1 по 6 используются для выделения важных признаков в изображении, а слои с 7 по 10 - для классификации."
   ]
  },
  {
   "cell_type": "code",
   "execution_count": 24,
   "metadata": {
    "collapsed": true
   },
   "outputs": [],
   "source": [
    "model = Sequential()\n",
    "model.add(Conv2D(32, (3, 3), input_shape=input_shape))\n",
    "model.add(Activation('relu'))\n",
    "model.add(MaxPooling2D(pool_size=(2, 2)))\n",
    "\n",
    "model.add(Conv2D(32, (3, 3)))\n",
    "model.add(Activation('relu'))\n",
    "model.add(MaxPooling2D(pool_size=(2, 2)))\n",
    "\n",
    "model.add(Conv2D(64, (3, 3)))\n",
    "model.add(Activation('relu'))\n",
    "model.add(MaxPooling2D(pool_size=(2, 2)))\n",
    "\n",
    "model.add(Flatten())\n",
    "model.add(Dense(64))\n",
    "model.add(Activation('relu'))\n",
    "model.add(Dropout(0.5))\n",
    "model.add(Dense(1))\n",
    "model.add(Activation('sigmoid'))"
   ]
  },
  {
   "cell_type": "markdown",
   "metadata": {},
   "source": [
    "Компилируем нейронную сеть"
   ]
  },
  {
   "cell_type": "code",
   "execution_count": 25,
   "metadata": {
    "collapsed": true
   },
   "outputs": [],
   "source": [
    "model.compile(loss='binary_crossentropy',\n",
    "              optimizer='adam',\n",
    "              metrics=['accuracy'])"
   ]
  },
  {
   "cell_type": "markdown",
   "metadata": {},
   "source": [
    "# Создаем генератор изображений\n",
    "\n",
    "Генератор изображений создается на основе класса ImageDataGenerator. Генератор делит значения всех пикселов изображения на 255."
   ]
  },
  {
   "cell_type": "code",
   "execution_count": 26,
   "metadata": {},
   "outputs": [],
   "source": [
    "datagen = ImageDataGenerator(rescale=1. / 255)\n"
   ]
  },
  {
   "cell_type": "markdown",
   "metadata": {},
   "source": [
    "Генератор данных для обучения на основе изображений из каталога"
   ]
  },
  {
   "cell_type": "code",
   "execution_count": 27,
   "metadata": {},
   "outputs": [
    {
     "name": "stdout",
     "output_type": "stream",
     "text": [
      "Found 17500 images belonging to 2 classes.\n"
     ]
    }
   ],
   "source": [
    "train_generator = datagen.flow_from_directory(\n",
    "    train_dir,\n",
    "    target_size=(img_width, img_height),\n",
    "    batch_size=batch_size,\n",
    "    class_mode='binary')"
   ]
  },
  {
   "cell_type": "markdown",
   "metadata": {},
   "source": [
    "Генератор данных для проверки на основе изображений из каталога"
   ]
  },
  {
   "cell_type": "code",
   "execution_count": 28,
   "metadata": {},
   "outputs": [
    {
     "name": "stdout",
     "output_type": "stream",
     "text": [
      "Found 3750 images belonging to 2 classes.\n"
     ]
    }
   ],
   "source": [
    "val_generator = datagen.flow_from_directory(\n",
    "    val_dir,\n",
    "    target_size=(img_width, img_height),\n",
    "    batch_size=batch_size,\n",
    "    class_mode='binary')\n"
   ]
  },
  {
   "cell_type": "markdown",
   "metadata": {},
   "source": [
    "Генератор данных для тестирования на основе изображений из каталога"
   ]
  },
  {
   "cell_type": "code",
   "execution_count": 29,
   "metadata": {},
   "outputs": [
    {
     "name": "stdout",
     "output_type": "stream",
     "text": [
      "Found 3750 images belonging to 2 classes.\n"
     ]
    }
   ],
   "source": [
    "test_generator = datagen.flow_from_directory(\n",
    "    test_dir,\n",
    "    target_size=(img_width, img_height),\n",
    "    batch_size=batch_size,\n",
    "    class_mode='binary')"
   ]
  },
  {
   "cell_type": "markdown",
   "metadata": {},
   "source": [
    "# Обучаем модель с использованием генераторов\n",
    "\n",
    "train_generator - генератор данных для обучения\n",
    "\n",
    "validation_data - генератор данных для проверки"
   ]
  },
  {
   "cell_type": "code",
   "execution_count": 30,
   "metadata": {},
   "outputs": [
    {
     "name": "stdout",
     "output_type": "stream",
     "text": [
      "Epoch 1/30\n",
      "875/875 [==============================] - 53s - loss: 0.6406 - acc: 0.6287 - val_loss: 0.5487 - val_acc: 0.7094\n",
      "Epoch 2/30\n",
      "875/875 [==============================] - 52s - loss: 0.5417 - acc: 0.7235 - val_loss: 0.5148 - val_acc: 0.7583\n",
      "Epoch 3/30\n",
      "875/875 [==============================] - 53s - loss: 0.4822 - acc: 0.7726 - val_loss: 0.4582 - val_acc: 0.7818\n",
      "Epoch 4/30\n",
      "875/875 [==============================] - 53s - loss: 0.4288 - acc: 0.8076 - val_loss: 0.4136 - val_acc: 0.8083\n",
      "Epoch 5/30\n",
      "875/875 [==============================] - 53s - loss: 0.3812 - acc: 0.8313 - val_loss: 0.4091 - val_acc: 0.8094\n",
      "Epoch 6/30\n",
      "875/875 [==============================] - 53s - loss: 0.3334 - acc: 0.8561 - val_loss: 0.4225 - val_acc: 0.8289\n",
      "Epoch 7/30\n",
      "875/875 [==============================] - 52s - loss: 0.2807 - acc: 0.8801 - val_loss: 0.4187 - val_acc: 0.8233\n",
      "Epoch 8/30\n",
      "875/875 [==============================] - 52s - loss: 0.2416 - acc: 0.8946 - val_loss: 0.4114 - val_acc: 0.8305\n",
      "Epoch 9/30\n",
      "875/875 [==============================] - 52s - loss: 0.2026 - acc: 0.9119 - val_loss: 0.4507 - val_acc: 0.8409\n",
      "Epoch 10/30\n",
      "875/875 [==============================] - 52s - loss: 0.1741 - acc: 0.9268 - val_loss: 0.5210 - val_acc: 0.8369\n",
      "Epoch 11/30\n",
      "875/875 [==============================] - 52s - loss: 0.1502 - acc: 0.9363 - val_loss: 0.6301 - val_acc: 0.8257\n",
      "Epoch 12/30\n",
      "875/875 [==============================] - 52s - loss: 0.1395 - acc: 0.9415 - val_loss: 0.5072 - val_acc: 0.8385\n",
      "Epoch 13/30\n",
      "875/875 [==============================] - 52s - loss: 0.1189 - acc: 0.9493 - val_loss: 0.5863 - val_acc: 0.8294\n",
      "Epoch 14/30\n",
      "875/875 [==============================] - 52s - loss: 0.1191 - acc: 0.9490 - val_loss: 0.5876 - val_acc: 0.8310\n",
      "Epoch 15/30\n",
      "875/875 [==============================] - 52s - loss: 0.1069 - acc: 0.9542 - val_loss: 0.5817 - val_acc: 0.8273\n",
      "Epoch 16/30\n",
      "875/875 [==============================] - 52s - loss: 0.1034 - acc: 0.9556 - val_loss: 0.6536 - val_acc: 0.8299\n",
      "Epoch 17/30\n",
      "875/875 [==============================] - 52s - loss: 0.0962 - acc: 0.9583 - val_loss: 0.6937 - val_acc: 0.8273\n",
      "Epoch 18/30\n",
      "875/875 [==============================] - 52s - loss: 0.0927 - acc: 0.9598 - val_loss: 0.6438 - val_acc: 0.8273\n",
      "Epoch 19/30\n",
      "875/875 [==============================] - 52s - loss: 0.0900 - acc: 0.9619 - val_loss: 0.7174 - val_acc: 0.8369\n",
      "Epoch 20/30\n",
      "875/875 [==============================] - 52s - loss: 0.0827 - acc: 0.9654 - val_loss: 0.8260 - val_acc: 0.8313\n",
      "Epoch 21/30\n",
      "875/875 [==============================] - 52s - loss: 0.0808 - acc: 0.9669 - val_loss: 0.8113 - val_acc: 0.8374\n",
      "Epoch 22/30\n",
      "875/875 [==============================] - 52s - loss: 0.0764 - acc: 0.9663 - val_loss: 0.8205 - val_acc: 0.8348\n",
      "Epoch 23/30\n",
      "875/875 [==============================] - 52s - loss: 0.0813 - acc: 0.9643 - val_loss: 0.6535 - val_acc: 0.8305\n",
      "Epoch 24/30\n",
      "875/875 [==============================] - 52s - loss: 0.0769 - acc: 0.9695 - val_loss: 0.8443 - val_acc: 0.8366\n",
      "Epoch 25/30\n",
      "875/875 [==============================] - 52s - loss: 0.0753 - acc: 0.9683 - val_loss: 0.7609 - val_acc: 0.8128\n",
      "Epoch 26/30\n",
      "875/875 [==============================] - 52s - loss: 0.0754 - acc: 0.9667 - val_loss: 0.8363 - val_acc: 0.8385\n",
      "Epoch 27/30\n",
      "875/875 [==============================] - 52s - loss: 0.0675 - acc: 0.9691 - val_loss: 0.8189 - val_acc: 0.8310\n",
      "Epoch 28/30\n",
      "875/875 [==============================] - 52s - loss: 0.0697 - acc: 0.9709 - val_loss: 0.9263 - val_acc: 0.8302\n",
      "Epoch 29/30\n",
      "875/875 [==============================] - 52s - loss: 0.0681 - acc: 0.9703 - val_loss: 0.8460 - val_acc: 0.8246\n",
      "Epoch 30/30\n",
      "875/875 [==============================] - 53s - loss: 0.0646 - acc: 0.9717 - val_loss: 0.7548 - val_acc: 0.8425\n"
     ]
    },
    {
     "data": {
      "text/plain": [
       "<keras.callbacks.History at 0x7fd1fabc3cc0>"
      ]
     },
     "execution_count": 30,
     "metadata": {},
     "output_type": "execute_result"
    }
   ],
   "source": [
    "model.fit_generator(\n",
    "    train_generator,\n",
    "    steps_per_epoch=nb_train_samples // batch_size,\n",
    "    epochs=epochs,\n",
    "    validation_data=val_generator,\n",
    "    validation_steps=nb_validation_samples // batch_size)"
   ]
  },
  {
   "cell_type": "markdown",
   "metadata": {},
   "source": [
    "# Оцениваем качество работы сети с помощью генератора"
   ]
  },
  {
   "cell_type": "code",
   "execution_count": 31,
   "metadata": {},
   "outputs": [],
   "source": [
    "scores = model.evaluate_generator(test_generator, nb_test_samples // batch_size)"
   ]
  },
  {
   "cell_type": "code",
   "execution_count": 32,
   "metadata": {},
   "outputs": [
    {
     "name": "stdout",
     "output_type": "stream",
     "text": [
      "Аккурантность на тестовых данных: 84.30%\n"
     ]
    }
   ],
   "source": [
    "print(\"Аккурантность на тестовых данных: %.2f%%\" % (scores[1]*100))"
   ]
  },
  {
   "cell_type": "code",
   "execution_count": null,
   "metadata": {
    "collapsed": true
   },
   "outputs": [],
   "source": []
  }
 ],
 "metadata": {
  "kernelspec": {
   "display_name": "Python 3",
   "language": "python",
   "name": "python3"
  },
  "language_info": {
   "codemirror_mode": {
    "name": "ipython",
    "version": 3
   },
   "file_extension": ".py",
   "mimetype": "text/x-python",
   "name": "python",
   "nbconvert_exporter": "python",
   "pygments_lexer": "ipython3",
   "version": "3.6.1"
  }
 },
 "nbformat": 4,
 "nbformat_minor": 2
}
